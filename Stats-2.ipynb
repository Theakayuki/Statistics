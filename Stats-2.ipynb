{
 "cells": [
  {
   "cell_type": "code",
   "execution_count": 1,
   "metadata": {},
   "outputs": [],
   "source": [
    "import matplotlib\n",
    "import matplotlib.pyplot as plt\n",
    "import numpy as np\n",
    "import statistics as st\n",
    "import math as m\n",
    "\n",
    "# change default text color to white for matplotlib\n",
    "matplotlib.rcParams['text.color'] = 'white'"
   ]
  },
  {
   "cell_type": "code",
   "execution_count": 10,
   "metadata": {},
   "outputs": [
    {
     "name": "stdout",
     "output_type": "stream",
     "text": [
      "0.25\n",
      "0.09600000000000002\n",
      "0.027777777777777776\n"
     ]
    }
   ],
   "source": [
    "\n",
    "def coinFlipProbability(n):\n",
    "    \"\"\"\n",
    "    Returns the probability of getting n heads in a row\n",
    "    \"\"\"\n",
    "    return (1 / 2) ** n\n",
    "\n",
    "print(coinFlipProbability(2))\n",
    "\n",
    "def loadedCoinFlipProbability(n, p):\n",
    "    \"\"\"\n",
    "    Returns the probability of getting n heads in a row\n",
    "    \"\"\"\n",
    "    return (1 - p) ** (n - 1) * p\n",
    "\n",
    "print(loadedCoinFlipProbability(3, 0.6))\n",
    "\n",
    "def diceRollProbability(n, sides):\n",
    "    \"\"\"\n",
    "    Returns the probability of getting n of the given number of sides\n",
    "    \"\"\"\n",
    "    return (1 / sides) ** n\n",
    "\n",
    "print(diceRollProbability(2, 6))\n"
   ]
  },
  {
   "cell_type": "markdown",
   "metadata": {},
   "source": [
    "# prob of cancer Positive Test\n",
    "    p(nC) = .9\n",
    "    p(Neg|C) = .1\n",
    "    p(Pos|nC) = .5\n",
    "\n",
    "    p(C, Pos) = .09\n",
    "    p(nC, Pos) = .45\n",
    "    p(Pos) = .54\n",
    "    p(C|Pos) = .166\n",
    "    p(nC|Pos) = .833\n",
    "\n",
    "## prop of seeing color surface from other surface\n",
    "    p(R) = .5 p(G) = .5\n",
    "    p(sR|aR) = .8 p(sR|aG) = .2\n",
    "    p(sG|aG) = .8 p(sG|aG) = .2\n",
    "    p(R,sR) = .4 p(G,sR) = .1\n",
    "    p(sR) = .5\n",
    "    p(aG|sR) = .2 p(aR|sR) = .8 \n",
    "\n",
    "    p(R) =0 p(G) =1\n",
    "    p(sR|R) =.8 p(sR|G) =.2\n",
    "    p(sG|G) =.8 p(sG|R) =.2\n",
    "    p(sR,R) = 0\n",
    "    p(sR,G) = .1\n",
    "    p(sR) = .1\n",
    "    p(R|sR) =0\n",
    "    p(G|sR) =1\n",
    "\n",
    "    p(R) =.5 p(G) =.5\n",
    "    p(sR|R) = .8 p(sR|G) =.2\n",
    "    p(sG|G) =.5 p(sG|R) =.5\n",
    "    p(sR,R) = .4\n",
    "    p(sR,G) = .1\n",
    "    p(sR) = .5\n",
    "    p(R|sR) = .8\n",
    "    p(G|sR) = .2\n",
    "\n"
   ]
  },
  {
   "cell_type": "markdown",
   "metadata": {},
   "source": [
    "## Cancer Example:\n",
    "    p(C) = p0 = .1 | P(nC) = 1-p0 = .9\n",
    "    p(P|C) = p1 = .9 | p(N|C) =.1\n",
    "    p(N|negC) = p2 = .8 | p(P|nC) = .2\n",
    "    p(P,C) = .09\n",
    "    p(P,nC) = .18\n",
    "    p(P) = .27\n",
    "    p(C|P) = .333$\n",
    "\n",
    "```python\n",
    "def cancerProb(p0,p1,p2):\n",
    "    return p0*(p1) / (p0*(p1) + (1-p0)*(1-p2))\n",
    "```\n",
    "    p(N,C) = \n",
    "    p(N,nC) = \n",
    "    p(N) = \n",
    "    p(C|N) = \n",
    "```py\n",
    "def cancerNegProb(p0,p1,p2):\n",
    "    return p0*(1-p1)/(p0*(1-p1) + (1-p0)*p2)\n",
    "```\n",
    "$ \\neg x=2+3$<br>\n",
    "$^1/_8$<br>\n",
    "$\\frac{x}{100}$<br>\n",
    "$^x/_{100}$"
   ]
  },
  {
   "cell_type": "code",
   "execution_count": 17,
   "metadata": {},
   "outputs": [
    {
     "name": "stdout",
     "output_type": "stream",
     "text": [
      "0.05555555555555555\n",
      "0.027777777777777776\n"
     ]
    }
   ],
   "source": [
    "def cancerPosProb(p0,p1,p2):\n",
    "    return p0*p1 / (p0*p1 + (1-p0)*(1-p2))\n",
    "\n",
    "\n",
    "print((2/3)*(1/12))\n",
    "print((1/3)*(1/12))"
   ]
  },
  {
   "cell_type": "markdown",
   "metadata": {},
   "source": [
    "# Density:\n",
    "probability of continuous spaces is usually 0 specificity\n",
    "Density is move of an estimation or average.\n",
    "\n",
    "Density of day that births were twice as likely before noon\n",
    "|F(x<=noon) | 2*F(x>noon)|\n",
    "|-|-|\n",
    "|1/3|2/3|\n",
    "|1/12|1/12|\n",
    "|.0277|.055|\n",
    "\n",
    "If package falls, and we know it will take between 3 and 3 1/2 min, what is the density\n",
    "it will be 2 due to the internal being 1/2 or .5 and to get the half to equal 1 we need to multiply by 2 = a\n",
    "\n",
    "This shows that density can be higher then 1"
   ]
  },
  {
   "cell_type": "markdown",
   "metadata": {},
   "source": [
    "\n",
    "# Correlation vs Causation\n",
    "\n",
    "Chances of dying in hospital are 40 times more likely than staying at home.  \n",
    "Correlation due to the hospital only having sick where people at home are mostly healthy.  \n",
    "That is just due to the total amounts, but if broken down to the actual sick people below.\n",
    "\n",
    "| In Hospital | Died | % |\n",
    "| - | - | - |\n",
    "|sick 36 | 4 | 11% |\n",
    "|healthy 4 | 0 | 0% |\n",
    "\n",
    "|At Home| Died|%|\n",
    "|-|-|-|\n",
    "|sick 40|20|50%|\n",
    "|healthy 7960|20|.25%|\n",
    "\n"
   ]
  },
  {
   "cell_type": "code",
   "execution_count": 18,
   "metadata": {},
   "outputs": [
    {
     "data": {
      "text/plain": [
       "0.0625"
      ]
     },
     "execution_count": 18,
     "metadata": {},
     "output_type": "execute_result"
    }
   ],
   "source": [
    "# function that will take the n number of times to flip a coin and give the probability of getting heads one time\n",
    "def coinFlipProbability(n):\n",
    "    \"\"\"\n",
    "    Returns the probability of getting n heads in a row\n",
    "    \"\"\"\n",
    "    return (1 / 2) ** n\n",
    "\n",
    "coinFlipProbability(4)"
   ]
  },
  {
   "cell_type": "markdown",
   "metadata": {},
   "source": [
    "### Truth table\n",
    "|flip 1|flip 2|flip 3|flip 4|\n",
    "|-|-|-|-|\n",
    "|H|H|H|H|\n",
    "|H|H|H|T|\n",
    "|H|H|T|T|\n",
    "|H|T|T|T|\n",
    "|T|T|T|T|\n",
    "|T|H|T|T|\n",
    "\n",
    "Ect.."
   ]
  },
  {
   "cell_type": "markdown",
   "metadata": {},
   "source": [
    "\n",
    "### Two coins:\n",
    "50% change to get either<br>\n",
    "first coin is fair<br>\n",
    "second coin is $p(H)=0.9$\n",
    "\n",
    "HHT one set of flips $.5\\cdot.5\\cdot.5=.125$\n",
    "THH Alt set of flips $.1\\cdot.9\\cdot.9=.081$\n",
    "\n",
    "Bays law\n",
    "$\\frac{.125\\cdot.5}{.5(.125+.081)}=.6080$<br>\n",
    "$P(coin1|Flips)$<br>\n",
    "\n",
    "So now to take the probability of either set of flips being done with the same coins:  \n",
    "$P(Same Coin) = .6080^2 + (1-.6080)^2 = .523$\n",
    "\n",
    "The more that you flip the coin the Prob of every sequence becomes small  \n",
    "The Prop of every number of heads becomes small  \n",
    "The Prob of every proportion of heads become small  \n",
    "The Prob of some ranges of proportions becomes small  \n",
    "\n"
   ]
  },
  {
   "cell_type": "code",
   "execution_count": 23,
   "metadata": {},
   "outputs": [
    {
     "name": "stdout",
     "output_type": "stream",
     "text": [
      "0.144\n"
     ]
    }
   ],
   "source": [
    "from __future__ import division\n",
    "class FlipPredictor(object):\n",
    "    def __init__(self,coins):\n",
    "        self.coins=coins\n",
    "        n=len(coins)\n",
    "        self.probs=[1/n]*n\n",
    "    def pheads(self):\n",
    "        #return the probability of next flip being heads\n",
    "        return sum(pcoin*p for pcoin,p in zip(self.coins,self.probs))\n",
    "    def update(self, result):\n",
    "        #return the probability of flipping each coin\n",
    "        pheads=self.pheads()\n",
    "        if result=='H':\n",
    "            self.probs=[pcoin*p/pheads for pcoin,p in zip(self.coins,self.probs)]\n",
    "        else:\n",
    "            self.probs=[(1-pcoin)*p/(1-pheads) for pcoin,p in zip(self.coins,self.probs)]\n",
    "\n",
    "\n",
    "H = .6\n",
    "T = 1-H\n",
    "print(H*T*H)"
   ]
  },
  {
   "cell_type": "markdown",
   "metadata": {},
   "source": [
    "### MLE Maximum Likelihood Estimator\n",
    "Using observations to make estimation for probability  \n",
    "Fliping coin and getting this result: 'HTH' gives us this $\\frac{2}{3}$ as the probability of heads  \n",
    "\n",
    "Adding in Fake data can help make MLE more real  \n",
    "H + Fake data, 'HT'  \n",
    "1 + $\\frac{1+1}{1+2}$ top is the times we got heads/bottom is total times run.  \n",
    "\n",
    "By adding the Fake data we can *smooth* out our results if we use Estimator\n",
    "\n",
    "### LAPLACE\n",
    "\n",
    "This is the name of Adding fake data to the MLE<br>\n",
    "to do so add one of each of the possible outcomes: <br>\n",
    "*In the case of coin its 1 H and 1 T<br>\n",
    "In the case of a six sided dice its 1,2,3,4,5,6*<br>\n",
    "**When there isn't much data fake it**\n"
   ]
  },
  {
   "cell_type": "markdown",
   "metadata": {},
   "source": [
    "### Mean Median Mode\n",
    "\n",
    "* Mean is when you add all the values of a list then divide by the total entries.\n",
    "* Median is when you take the entries, sort them, then find the middle most entry.\n",
    "* Mode is when you sort the entries, sort them, then find the most common entry.\n",
    "\n",
    "for this set of nums = [5,9,100,9,97,6,9,98,9]<br>\n",
    "$$\n",
    "Mean \\sum=342/count_9 \n",
    "$$\n",
    "$$\n",
    "Median = 5,6,9,9,[9],9,97,98,100\n",
    "$$\n",
    "$$\n",
    "Mode = 5,6,[9,9,9,9],97,98,10\n",
    "$$"
   ]
  },
  {
   "cell_type": "code",
   "execution_count": 29,
   "metadata": {},
   "outputs": [
    {
     "name": "stdout",
     "output_type": "stream",
     "text": [
      "11.11111111111111\n",
      "185.5\n"
     ]
    }
   ],
   "source": [
    "diceOutcomes = [1,2,4,2]\n",
    "# print(diceOutcomes.count(2)/6)\n",
    "\n",
    "# print(2/10)\n",
    "\n",
    "housePrices = [190,170,165,180,165]\n",
    "housePrices2 = [2400,125,148,160,110,325,180]\n",
    "# print(np.mean(housePrices))\n",
    "# print(round(np.mean(housePrices2)))\n",
    "# print(np.median(housePrices2))\n",
    "\n",
    "ChildAges = [4,3,32,33,4,32,3,38,4,35,36]\n",
    "# print(np.mean(ChildAges))\n",
    "# print(np.median(ChildAges))\n",
    "# print(st.mode(ChildAges))\n",
    "\n",
    "\n",
    "nums = [5,9,100,9,97,6,9,98,9]\n",
    "# print(st.mean(nums))\n",
    "# print(st.median(nums))\n",
    "# print(st.mode(nums))\n",
    "\n",
    "nums2 = [3,9,3,8,2,9,1,2,4,9]\n",
    "# print(st.mean(nums2))\n",
    "# print(st.median(nums2))\n",
    "# print(st.mode(nums2))\n",
    "\n"
   ]
  },
  {
   "cell_type": "markdown",
   "metadata": {},
   "source": [
    "### Variance\n",
    "\n",
    "This is the spread of the data\n",
    "it is calculated by taking our list of data and finding the mean subtracting it from the entries, squaring them, summing them and then dividing them by total number of entries.\n",
    "\n",
    "Variables\n",
    "$$\n",
    "n = number of entries, x = entries values, \n",
    "$$\n",
    "\n",
    "Mean\n",
    "$$\n",
    "Mean=\n",
    "\\frac{1}{n}\\sum_iX_i\n",
    "$$\n",
    "Variance\n",
    "$$\n",
    "Variance=\n",
    "\\sigma^2=\\frac{1}{n}\\sum(X_i-M)^2\n",
    "$$\n",
    "Std Deviation - Take the Variance and Square root it\n",
    "$$\n",
    "Std Deviation =\n",
    "\\sqrt{\\sigma^2}\n",
    "$$\n",
    "\n",
    "Alt Formula\n",
    "$$\n",
    "\\sigma^2=\\frac{\\sum X^2_i}{N}-\\frac{(\\sum X_i)^2}{N^2}\n",
    "$$\n",
    "this will lead to you only having to keep track of $N=$ Number of Values, $\\sum X_i=$ sum of all values, and $\\sum X_i^2$ all values squared then summed\n",
    "$$\n",
    "M=\\frac{1}{N}\\sum X_i\n",
    "$$\n",
    "$$\n",
    "\\sigma^2=\\frac{1}{N}\\sum X_i^2-\\frac{1}{N^2}(\\sum X_i)^2\n",
    "$$\n",
    "\n",
    "#### Standard Score\n",
    "This is when you take the value - the mean divided by the variance\n",
    "$Z=\\frac{X-M}{\\sigma}$"
   ]
  },
  {
   "cell_type": "code",
   "execution_count": 3,
   "metadata": {},
   "outputs": [
    {
     "name": "stdout",
     "output_type": "stream",
     "text": [
      "4\n",
      "0\n",
      "0.0\n",
      "5\n",
      "4.0\n",
      "3\n",
      "3\n",
      "0.25\n",
      "12.0\n"
     ]
    }
   ],
   "source": [
    "# print(st.variance(nums2))\n",
    "# print(st.variance([7,38,4,23,18]))\n",
    "\n",
    "# data_set_1 = [4]\n",
    "# print(st.mean(data_set_1))\n",
    "# print(st.pvariance(data_set_1))\n",
    "# print(st.pstdev(data_set_1))\n",
    "\n",
    "def mean(data):\n",
    "    return sum(data)/len(data)\n",
    "\n",
    "def median(data):\n",
    "    data.sort()\n",
    "    if len(data)%2 == 0:\n",
    "        return (data[len(data)//2] + data[len(data)//2-1])/2\n",
    "    else:\n",
    "        return data[len(data)//2]\n",
    "\n",
    "\n",
    "\n",
    "def mode(data):\n",
    "    counts = {}\n",
    "    for num in data:\n",
    "        if num in counts:\n",
    "            counts[num] += 1\n",
    "        else:\n",
    "            counts[num] = 1\n",
    "    max_count = max(counts.values())\n",
    "    return [num for num, count in counts.items() if count == max_count][0]\n",
    "\n",
    "# print(mode([1,2,5,10,-20,5,5]))\n",
    "\n",
    "def variance(data):\n",
    "    meanData = mean(data)\n",
    "    return sum([(x-meanData)**2 for x in data])/len(data)\n",
    "\n",
    "# randSet = [1,2,2,3,3,3,4,4,5,6,11]\n",
    "# print(mean(randSet))\n",
    "# print(median(randSet))\n",
    "# print(mode(randSet))\n",
    "\n",
    "# print(variance([0,1]))\n",
    "# print(median([5,9,15,25]))\n"
   ]
  },
  {
   "cell_type": "code",
   "execution_count": 59,
   "metadata": {},
   "outputs": [
    {
     "name": "stdout",
     "output_type": "stream",
     "text": [
      "22.0\n",
      "21.86\n"
     ]
    }
   ],
   "source": [
    "\n",
    "#function that will take distribution of sides of a die and data that will be the sequence we want to roll what is the likelihood of getting that roll\n",
    "def likelihood(dist,data):\n",
    "    return format(dist[data],'.3f')\n",
    "\n",
    "print(mean([22,21,24,20,23]))\n",
    "print(round(mean([20,21,22,22,22,23,23]),2))\n"
   ]
  },
  {
   "cell_type": "markdown",
   "metadata": {},
   "source": [
    "### Dealing with Outliers\n",
    "using Quartiles we can eliminate the lower and upper outliers.\n",
    "\n",
    "19,19,20,21,22,**[22]**,22,23,23,24,25\n",
    "\n",
    "To find Quartiles we find the Median then break up the left and right sections and find there medians\n",
    "\n",
    "19,19,**{20}**,21,22,**[22]**,22,23,**{23}**,24,25<br>\n",
    "Leaving:  \n",
    "**{20}**,21,22,**[22]**,22,23,**{23}**\n",
    "\n",
    "-99,13,**[17]**,33,1489<br>\n",
    "13,17,33\n",
    "\n"
   ]
  },
  {
   "cell_type": "markdown",
   "metadata": {},
   "source": [
    "### Binomial Distribution\n",
    "\n",
    "using Binomials we can find out the amount of times we can get certain outcomes, $\\frac{N!}{k!(n-k)!}$<br>\n",
    "where N = the number of flips, K is the amount of certain outcome, and ! = factorial\n",
    "\n",
    "\n",
    "Binomial probability Formula:<br>\n",
    "$$\n",
    "B=\\frac{N!}{k!(n-k)!} \\cdot P^k (1-P)^{n-k}\n",
    "$$"
   ]
  },
  {
   "cell_type": "code",
   "execution_count": 92,
   "metadata": {},
   "outputs": [
    {
     "name": "stdout",
     "output_type": "stream",
     "text": [
      "1.0\n"
     ]
    }
   ],
   "source": [
    "# print((10*9*8*7*6)/(5*4*3*2*1))\n",
    "# top is the number of possible slots that are taken up by the coin flips multiplied each slot, and bottom is the number of times we want to flip the coin multiped by each flipped left\n",
    "\n",
    "def coinFlipOutcome(Coins,Outcome):\n",
    "    \"\"\"\n",
    "    Returns the Number of times of getting Outcome, given amount of Coins\n",
    "    Coins: number of coins\n",
    "    Outcome: number of heads in a row\n",
    "    \"\"\"\n",
    "    import math\n",
    "    return (m.factorial(Coins)/(m.factorial(Coins-Outcome)*m.factorial(Outcome)))\n",
    "\n",
    "\n",
    "def coinFlipOutcomeProb(Coins,Outcome):\n",
    "    \"\"\"\n",
    "    Returns the probability of getting Outcome, given amount of Coins\n",
    "    Coins: number of coins\n",
    "    Outcome: number of heads in a row\n",
    "    \"\"\"\n",
    "    return coinFlipOutcome(Coins,Outcome)/(2**Coins)\n",
    "\n",
    "def coinFlipOutProb(coins,outcome,prob):\n",
    "    \"\"\"\n",
    "    Returns the probability of getting Outcome, given amount of Coins, and chance of getting Heads\n",
    "    Coins: number of coins\n",
    "    Outcome: number of heads in a row\n",
    "    Prob: chance of getting Heads\n",
    "    \"\"\"\n",
    "    return coinFlipOutcome(coins,outcome)*prob**outcome*(1-prob)**(coins-outcome)\n",
    "\n",
    "\n",
    "\n",
    "# print(m.factorial(10)/(m.factorial(10-5)*m.factorial(5)))\n",
    "\n",
    "# print(coinFlipOutcome(125,3))\n",
    "# print(coinFlipOutcomeProb(3,1))\n",
    "# coinFlipOutProb(12,9,.8)\n",
    "print(coinFlipOutcome(3,3))"
   ]
  },
  {
   "cell_type": "markdown",
   "metadata": {},
   "source": [
    "### Central Limit Theorem\n",
    "\n",
    "- Many coin Flips\n",
    "- Distribution of the sum of many things\n",
    "\n",
    "Formula binomial for CLT: $CLT=\\sum\\limits_{i=1}^n X_i$  \n",
    "\n",
    "As you get more data for tests it will start to create a Gaussian curve(Gauss)\n",
    "\n",
    "For the formula of normal distribution with mean and variance\n",
    "$f(x)=\\frac{(X-M)^2}{\\sigma^2}$\n",
    "+ As the variance gets bigger the graph will get wider/stretched left and right\n",
    "+ Whereas if it gets smaller it will get narrower.\n",
    "\n",
    "Single coin flip prob = just the probability (1)  \n",
    "Multiple coin flips = binomial distribution (10)  \n",
    "Many multiple flips = Normal Distribution   (10000)  "
   ]
  },
  {
   "cell_type": "code",
   "execution_count": 8,
   "metadata": {},
   "outputs": [
    {
     "data": {
      "image/png": "[encoded data removed]",
      "text/plain": [
       "<Figure size 432x288 with 1 Axes>"
      ]
     },
     "metadata": {
      "needs_background": "light"
     },
     "output_type": "display_data"
    }
   ],
   "source": [
    "def flip(N: int)->list:\n",
    "    \"\"\"\n",
    "    Returns a list with N flips of a coin with 0 being tails and 1 being heads\n",
    "    \"\"\"\n",
    "    import random\n",
    "    return [random.randint(0,1) for i in range(N)]\n",
    "\n",
    "def sample(n: int)->list:\n",
    "    \"\"\"Returns a list of means that we get from flip being run n times\n",
    "\n",
    "    Args:\n",
    "        n (number): Number of times to run the flip function\n",
    "\n",
    "    Returns:\n",
    "        List: List of means\n",
    "    \"\"\"\n",
    "    return [mean(flip(n)) for i in range(n)]\n",
    "\n",
    "\n",
    "hundredFlips = [sample(100) for i in range(100)]\n",
    "\n",
    "plt.hist(hundredFlips,bins=30)\n",
    "plt.show()\n"
   ]
  },
  {
   "cell_type": "markdown",
   "metadata": {},
   "source": [
    "\n",
    "In the case that we have a person throwing a ball there mean is 30m, and there standard deviation is 5m, what if they increase there performance by 10% and there throwing from 2m ahead.  \n",
    "They would now have a new mean of 30+10%(3)+2 = 35m, and there deviation would be only affected by the percent increase, so from 5m to 5.5m  \n",
    "\n",
    "Now if we take a golfer, and they have two swings, first swing is a mean of 100m with deviation of 10m, and same with the second.  \n",
    "then we want to combine the two swings to get a new mean and deviation, how do we do it?  \n",
    "First, for the median: $M_1=100$ $M_2=100$ $ M^\\prime=200$ , as for the Deviation it would be: $\\sigma^2=200m^2$  \n",
    "So we would have to break that down to $2 \\cdot 100m^2$ then that would go to $\\sqrt{2}\\cdot10m = 14.14m$\n",
    "\n",
    "So $A=N(m,\\sigma^2)$ $b=N(m,\\sigma^2)$ and we want to add them up, A+B $m\\prime=(m_A+m_B)=2m$ but the variances it would be $2\\sigma^2$  \n",
    "Now if we wanted to subtract those same ones A-B, for mean it would be 0, but for the variance it would be $2\\sigma^2$ still as it has higher chance to get knocked lower or higher from start depending on the original variance.\n",
    "\n",
    "\n"
   ]
  },
  {
   "cell_type": "markdown",
   "metadata": {},
   "source": [
    "### Problem set 4 - random walk\n",
    "\n",
    "Random walks, use Normal Distribution.\n",
    "\n",
    "if we do a walk where the mean is 0 and the variance is 1  \n",
    "$m=0$ $\\sigma^2=1$ and we wait 1 second it will have,  \n",
    "moved $m=0$ and the variance is $\\sigma^2=1$, but  \n",
    "after 2 seconds it will be $m=0$ with variance of $\\sigma^2=2$ due to them being added.  \n",
    "after 10 seconds, $m=0$ and variance of $\\sigma^2=10$ .  \n",
    "\n",
    "Next walk is if we have a Mean of 1 and a Variance of 2 to start,  \n",
    "1. One Second, the Mean will increase by one, $M=1$ and the Variance will be $\\sigma^2=2$\n",
    "2. 2s, the Mean will increase by one, $M=2$ and the Variance will be $\\sigma^2=4$\n",
    "3. 10s, the Mean will increase by 8, $M=10$ and the Variance will be $\\sigma^2=20$\n",
    "As both the Mean and Variance are Multiplied, by the time.\n",
    "\n",
    "This is like in the above section where we had A+B "
   ]
  },
  {
   "cell_type": "code",
   "execution_count": 16,
   "metadata": {},
   "outputs": [
    {
     "name": "stdout",
     "output_type": "stream",
     "text": [
      "9.5367431640625e-07\n"
     ]
    }
   ],
   "source": [
    "import random\n",
    "from math import sqrt\n",
    "\n",
    "def mean(data):\n",
    "    return sum(data)/len(data)\n",
    "\n",
    "def variance(data):\n",
    "    mu=mean(data)\n",
    "    return sum([(x-mu)**2 for x in data])/len(data)\n",
    "\n",
    "def stddev(data):\n",
    "    return sqrt(variance(data))\n",
    "\n",
    "# def calculate_weight(data: list, z:int) -> float:\n",
    "#     # remove outliers\n",
    "#     # extract data between lower and upper quartile\n",
    "#     # fit Gaussian using MLE\n",
    "#     # compute x that corresponds to standard score z\n",
    "#     # return weight which is the mean of the data - z\n",
    "#     data.sort()\n",
    "#     remove_outliers = data[int(len(data)/4):int(3*len(data)/4)]\n",
    "#     lower_quartile = mean(remove_outliers+remove_outliers)\n",
    "#     upper_quartile = mean(remove_outliers[::-1]+remove_outliers[::-1])\n",
    "#     # mean_data is the mean of both the lower and upper quartile\n",
    "#     mean_data = mean(remove_outliers)\n",
    "#     return mean_data - z\n",
    "\n",
    "def calculate_weight(data: list, z:int) -> float:\n",
    "    # remove outliers\n",
    "    # extract data between lower and upper quartile\n",
    "    # fit Gaussian using MLE\n",
    "    # compute x that corresponds to standard score z\n",
    "    # return weight which is the mean of the data + z\n",
    "    \n",
    "    # remove outliers\n",
    "    # extract data between lower and upper quartile\n",
    "    data.sort()\n",
    "    lowerq = (len(data)-3)/4\n",
    "    upperq = lowerq * 3 + 3\n",
    "    newdata = [data[i] for i in range(lowerq,upperq)]\n",
    "    \n",
    "    # fit Gaussian using MLE\n",
    "    mu = mean(newdata)\n",
    "    sigma = stddev(newdata)\n",
    "    \n",
    "    # compute x that corresponds to standard score z\n",
    "    x = mu + z * sigma\n",
    "    return x\n",
    "\n",
    "coinFlipProbability(10)\n",
    "print(.25**10)"
   ]
  },
  {
   "cell_type": "markdown",
   "metadata": {},
   "source": [
    "### Confidence intervals\n",
    "\n",
    "For Sample data, we get estimated Mean, and Variance, and confidence interval.\n",
    "This confidence internal is the +or- that the mean is correct\n",
    "\n",
    "example:\n",
    "we have a coin and its fair,\n",
    "$P=.5$, $M=.5$, $\\sigma^2=.25$, for one flips<br>\n",
    "$M=1$, $\\sigma^2=.5$, for 2 flips<br>\n",
    "$M=5$, $\\sigma^2=.2.5$, for 10 flips<br>\n",
    "\n",
    "\n"
   ]
  }
 ],
 "metadata": {
  "interpreter": {
   "hash": "369f2c481f4da34e4445cda3fffd2e751bd1c4d706f27375911949ba6bb62e1c"
  },
  "kernelspec": {
   "display_name": "Python 3.10.4 64-bit",
   "language": "python",
   "name": "python3"
  },
  "language_info": {
   "codemirror_mode": {
    "name": "ipython",
    "version": 3
   },
   "file_extension": ".py",
   "mimetype": "text/x-python",
   "name": "python",
   "nbconvert_exporter": "python",
   "pygments_lexer": "ipython3",
   "version": "3.10.4"
  },
  "orig_nbformat": 4
 },
 "nbformat": 4,
 "nbformat_minor": 2
}
