{
 "cells": [
  {
   "cell_type": "markdown",
   "metadata": {},
   "source": [
    "### Regression\n",
    "\n",
    "Variables that are used as factors are **Independent**, and Variables that are the result of them are **Dependent**<br>\n",
    "\n",
    "|Simple Linear|Multiple Linear|Logistic|\n",
    "|-|-|-|\n",
    "|1 Independent|Multiple Independent|Multiple Independent|\n",
    "|1 Dependent|1 Dependent|Question Dependent Like Yes or No|\n",
    "\n",
    "#### Simple Linear Regression\n",
    "$y\\hat{}=b\\cdot x+a$  \n",
    "$y\\hat{}$ = Estimated length of stay  \n",
    "b = slope  \n",
    "x = Age  \n",
    "a = receptor\n",
    "\n",
    "$b=r\\frac{\\sigma y}{\\sigma x}$ B = the standard dev of y divided by the standard dev of x times the correlation of the variables.\n",
    "$a=y\\bar{}-b\\cdot x\\bar{}$ - A=mean of y - b times the mean of x will solve for the receptor\n",
    "\n",
    "There can be an error value called epsilon $\\epsilon$ and adding it to the end will give you a drift for the true possibility\n",
    "\n",
    "### When do I use a regression analysis?\n",
    "1. Measurement of the influence of one or more variables on another variable\n",
    "    - What influences children's ability to concentrate?\n",
    "    - Do the educational level of the parents and the place of residence affect the future educational attainments of children?\n",
    "2. Prediction of a variable by one or more other variables\n",
    "    - How long does a patient stay in the hospital?\n",
    "    - What product is a person most likely to buy from an online store?\n",
    "\n",
    "\n",
    "\n"
   ]
  },
  {
   "cell_type": "code",
   "execution_count": null,
   "metadata": {},
   "outputs": [],
   "source": []
  }
 ],
 "metadata": {
  "language_info": {
   "name": "python"
  },
  "orig_nbformat": 4
 },
 "nbformat": 4,
 "nbformat_minor": 2
}
